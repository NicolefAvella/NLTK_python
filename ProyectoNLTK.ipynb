{
  "nbformat": 4,
  "nbformat_minor": 0,
  "metadata": {
    "colab": {
      "name": "ProyectoNLTK.ipynb",
      "provenance": [],
      "collapsed_sections": [],
      "authorship_tag": "ABX9TyNwHt1BXjDWneeBHszArLc7",
      "include_colab_link": true
    },
    "kernelspec": {
      "name": "python3",
      "display_name": "Python 3"
    }
  },
  "cells": [
    {
      "cell_type": "markdown",
      "metadata": {
        "id": "view-in-github",
        "colab_type": "text"
      },
      "source": [
        "<a href=\"https://colab.research.google.com/github/NicolefAvella/NLTK_python/blob/master/ProyectoNLTK.ipynb\" target=\"_parent\"><img src=\"https://colab.research.google.com/assets/colab-badge.svg\" alt=\"Open In Colab\"/></a>"
      ]
    },
    {
      "cell_type": "markdown",
      "metadata": {
        "id": "DoP7RFKb8JLY",
        "colab_type": "text"
      },
      "source": [
        "#**Analisis** de un articulo utilizando Natural Language Toolkit (NLTK python)"
      ]
    },
    {
      "cell_type": "code",
      "metadata": {
        "id": "JK-LDAa88Cnb",
        "colab_type": "code",
        "colab": {}
      },
      "source": [
        "#nltk\n",
        "import nltk\n",
        "from nltk.tokenize import RegexpTokenizer\n",
        "from nltk import FreqDist\n",
        "from nltk.corpus import stopwords\n",
        "from nltk.util import ngrams\n",
        "\n",
        "import re\n",
        "import numpy as np\n",
        "import pandas as pd\n",
        "import matplotlib.pyplot as plt\n",
        "import plotly.express as px   #graficos para interactuar"
      ],
      "execution_count": 0,
      "outputs": []
    },
    {
      "cell_type": "code",
      "metadata": {
        "id": "locj8TVN8ij_",
        "colab_type": "code",
        "colab": {}
      },
      "source": [
        "text = \"\"\"\n",
        "IMPLEMENTACION DE LA MODALIDAD  \n",
        "BLEARNING EN PROCESOS DE CAPACITACION COMPLEMENTARIA COMO ESTRATEGIA DE FORMACION EMPRESARIAL DEL SERVICIO NACIONAL DE APRENDIZAJE  SENA : \n",
        "Resumen : \n",
        "En el presente estudio se realizó un análisis sobre la implementación de la modalidad Blended Learning  (en adelante BLearning) como estrategia del Servicio Nacional de Aprendizaje (en adelante SENA) para impartir formación complementaria a nivel empresarial;  a través de la investigación se evidenció que existe tendencia favorable ante la combinación de modalidades, puesto que se contó con la presencialidad donde se interactuó con el docente y se realizaron prácticas que fortalecieron la técnica base del curso,  así mismo como parte del proceso formativo se obtuvo el apoyo de herramientas tecnológicas donde se  hizo viable la mediación pedagógica.\n",
        "Así pues la modalidad BLearning entendida como formación mixta o combinada la cual se apoya en diferentes recursos tecnológicos, sugiere una alternativa para ser incluida dentro de los procesos de capacitación a empresas que ofrece el SENA, esta favorece  al empresario y al aprendiz; al empresario debido a que brinda la posibilidad de capacitación de sus trabajadores en la empresa y en temas directos relacionados con su sector productivo y al aprendiz porque adquiere cualificación para su puesto de trabajo. La modalidad expuesta permite al aprendiz el desarrollo personal y profesional en tiempos compartidos con la empresa, facilitando los espacios para la unión familiar y vida social que son un componente primordial de todo ser humano.\n",
        "Para verificar la viabilidad de esta modalidad a nivel empresarial se realizó la investigación con la participación de una empresa del sector industrial del departamento de Santander, la cual aportó recursos financieros y talento humano, así mismo se contó con la disposición gerencial para el desarrollo de los procesos formativos y la programación de tiempos de sus colaboradores.\n",
        "El proceso investigativo se soportó en la investigación  con enfoque cuantitativo centrado en el sujeto que para la investigación fue la implementación de la modalidad BLearning, la investigación se centró en la utilidad del BLearning en procesos de formación complementaria para los trabajadores de una empresa del sector industrial que cuenta con varias sedes en el país. \n",
        "Palabras clave: formación complementaria, BLearning, competencias, formación empresarial, estrategia, empresa.\n",
        "Línea de investigación: Modelos BLearning para formación Empresarial.\n",
        "Introducción : \n",
        "La formación para el trabajo es la base sostenible del Servicio Nacional de Aprendizaje SENA, esta se creó para brindar respuesta a las necesidades de capacitación de los empresarios y trabajadores colombianos. Como funcionaria de la entidad la autora del presente Trabajo de Grado ha conocido los procesos de cambio que se han presentado en los últimos años, ante épocas que demandan la diversificación de los procesos de aprendizaje, la entidad ha generado estrategias para mejorar la formación y de esta forma hacerlas cada vez más dinámicas para brindar respuesta efectiva a todos los aspirantes a la formación en sus diferentes modalidades.\n",
        "La formación profesional integral que imparte el SENA no ha estado ausente ante los cambios tecnológicos que se han presentado en la educación a nivel mundial, en tanto que su naturaleza implica aportar en la transformación que viven las diferentes comunidades de las regiones del país, en dos aspectos fundamentales: el desarrollo humano y desde la generación del conocimiento, las cuales tienen lugar en la dinámica de aprender y de enseñar.\n",
        "La entidad desde su inicio ha concentrado sus procesos de formación en la modalidad presencial, puesto que su función se centra en el aprender- haciendo, para garantizar el desarrollo de capacidades en sus aprendices que le generen oportunidades y movilidad laboral; no obstante con el pasar de los tiempos y los requerimientos de la sociedad del conocimiento como lo indica Drucker (1993) “el reto verdadero que nos espera no es la tecnología. Es cómo usarla” (p.215). Así mismo enuncia  que “en la escuela de mañana, los estudiantes serán sus propios instructores utilizando como herramienta un programa de computador” (Drucker, 1993, p.217), no lejanos de esta realidad descrita en 1992 el SENA incluyó a partir del 2003 nuevas estrategias dentro del proceso de Gestión de la Formación Profesional Integral aprovechando la tecnología como medio para la enseñanza a través de la formación virtual, esto permitió no solo la ampliación de cobertura sino la apertura a nuevas formas de enseñanza-aprendizaje.\n",
        "Sin embargo, estas estrategias no han sido suficientes y dan paso al uso del BLearning; la presente investigación se convierte en una alternativa de mediación entre la presencialidad y la virtualidad para la formación complementaria, puesto que como se observó en el estudio, los participantes de cursos presenciales son más constantes, mientras que en la formación virtual existe variación significativa. Por lo tanto, se trata de una oportunidad para combinar y aunar esfuerzos institucionales para la optimización de recursos y por ende, de los resultados esperados. Como parte del fortalecimiento de la propuesta se contó con aspectos a favor, tales como la formación gratuita, la disposición de recursos para el diseño y desarrollo curricular y las alianzas empresariales para afianzar esfuerzos en pro de la formación de los colombianos.\n",
        "Así mismo, la modalidad BLearning permite a los empresarios optimizar recursos, ya que se puede generar cobertura nacional a través del uso de la tecnología y apropiarla entonces en los acompañamientos presenciales que realiza el tutor y que se enfatizan en la práctica. La combinación de modalidades da origen a la implementación de incentivos empresariales para sus trabajadores, plasmados en el otorgamiento de tiempo para estudiar en horas laborales. Soportada en lo expuesto la pregunta orientadora de la investigación fue: ¿Es la modalidad BLearning una estrategia para fortalecer los procesos de formación complementaria que imparte el SENA para los Empresarios?\n",
        "Estado de arte :\n",
        "La investigación centra su fundamento en aspectos como Formación para el trabajo en América Latina, Formación para el trabajo en Colombia, el SENA como entidad de Formación para el trabajo y el BLearning como estrategia de formación empresarial. Al realizar un recorrido por cada uno de estos aspectos se logró realizar una sustentación de la base conceptual del estudio.\n",
        "En cuanto a la Formación para el trabajo en América Latina se ha desarrollado paulatinamente a través de políticas de cada uno de sus gobiernos, no obstante, con la inclusión del desarrollo de competencias, organismos como la Organización Internacional del Trabajo (en adelante OIT) y el Centro Interamericano para el Desarrollo del Conocimiento en la Formación Profesional  (en adelante CINTERFORD) han generado estrategias con las cuales llegan a diferentes niveles, una de ellas es la inclusión de formación por competencias que en este momento trabaja el SENA. Sin embargo y pese a los esfuerzos que entidades como estas realizan para globalizar estrategias de fortalecimiento en formación para el nivel productivo, existen datos emitidos por el Banco Interamericano de desarrollo (en adelante BID) que demuestran que se requiere mayor esfuerzo para capacitar a la fuerza trabajadora de los países; de acuerdo con el BID (s.f.):\n",
        "Solamente el 15% de los trabajadores en Chile, 21% en Colombia, 21% en Perú y 24% en Uruguay cuentan con acceso a cualquier forma de entrenamiento para la mejora de sus competencias laborales, a pesar que la región realiza una inversión considerable de recursos en capacitación. Existe consenso en la necesidad de una inversión sostenida en capital humano, una clara conciencia de la rapidez con que varían las demandas de los mercados, y del reto por mejorar la productividad. Resulta esencial entonces diseñar mejores mecanismos que permitan a la fuerza de trabajo encontrar y mantener buenos empleos, a la par que continúa desarrollando nuevas competencias y habilidades.\n",
        "En concordancia con lo anterior y para estructurar la importancia de la formación para el trabajo en América Latina se retomó lo expuesto por la Organización de Estados Iberoamericanos (OEI) y CINTERFORD en el documento denominado la “Formación y trabajo: de ayer para mañana\" (OEI, s.f.); donde se describe la historia de la formación para el trabajo y se explica además de su evolución, el impacto económico sucedido en el año 1930 hasta las estrategias de desarrollo propuestas y soportadas en la necesidad de cualificar el talento humano de las organizaciones, “[…] se trataba, por decirlo esquemáticamente, de un panorama inverso al actual, donde la demanda de recursos humanos superaba a la oferta, donde el problema no era la creación de plazas laborales sino la provisión de calificaciones a los recursos humanos que iban a emplearse” (OEI, s.f., párr.23).\n",
        "Consecuentemente con lo expuesto en el contexto de América Latina, se encuentra la formación para el trabajo en Colombia, regulada por medio de la Ley 1064 del 26 de julio de 2006, en la cual se modificó la denominación de educación no formal por educación para el Trabajo y el desarrollo humano. En el año 2007 se reglamentó por medio del Decreto 2888 la creación, la organización y el funcionamiento de las instituciones que estarían a cargo de ofrecer la formación para el trabajo, a fin de garantizar su funcionamiento el Ministerio de Educación Nacional generó lineamientos orientadores para las secretarías de educación de las entidades territoriales certificadas en educación, para la verificación de los requisitos que le daban viabilidad al funcionamiento de sus programas.\n",
        "Toda la formación que se encuentre regida por estas disposiciones adquieren los derechos que emite el Estado, puesto que por medio de esta estrategia se garantiza la educación a nivel técnico y se viabiliza la alternativa de continuar con los ciclos propedéuticos que ofrece la educación superior, mismos que le permiten al estudiante desarrollarse en su formación profesional de acuerdo con sus intereses y capacidades, de tal manera que se garantice la educación permanente de los colombianos.\n",
        "Dentro de estas entidades se encuentra el Servicio Nacional de Aprendizaje SENA, cuya estrategia organizacional le ha permitido ir más allá de lo dispuesto por la normativa; la proyección internacional que ha tenido y que ha sido dispuesta dentro de la planeación estratégica le ha brindado diversas alternativas, no solo para los trabajadores, sino para el empresario. Es así como ha incluido la certificación de competencias laborales, el diseño de  programas por competencias y la utilización de la estrategia de formación por proyectos, todo encaminado al logro de la cualificación del talento humano para que desarrolle sus capacidades en el sector productivo de manera competitiva y productiva.\n",
        "El SENA, imparte formación profesional integral a través de los Centros de Formación, y brinda servicios de formación continua del talento humano vinculado a las empresas; información; orientación y capacitación para el empleo; apoyo al desarrollo empresarial; servicios tecnológicos para el sector productivo y apoyo a proyectos de innovación, desarrollo tecnológico y competitividad. (SENA, 2018, p.1). La Ley 119 mantiene la unidad jurídica y organizativa de la Entidad; su carácter estatal de interés público; su dirección y administración tripartita (gobierno, trabajadores y empresarios) en los niveles nacional y regional; su adscripción al Ministerio de Trabajo con carácter descentralizado, es decir, con administración independiente y establece el manejo autónomo de su presupuesto y el carácter redistributivo de la asignación de los recursos entre regiones, sectores económicos y niveles de la producción. (Acuerdo08/97).\n",
        "En este contexto, la entidad ha desarrollado diversas metodologías para el proceso de enseñanza y aprendizaje, en 62 años ha proyectado sus procesos de acuerdo con las tendencias de los sectores económicos del país.  Hacia el año 2000 se dio el proceso de globalización de la economía en Colombia y se estableció una nueva reforma en la formación del SENA, que dio inicio al trabajo pedagógico con el enfoque de competencias laborales. De igual manera, tomó vigencia el Estatuto de la Formación Profesional Integral que se adoptó mediante Acuerdo 008 de 1997. Según el estatuto, las características de la formación profesional integral son la Organización Modular; Aprendizaje Teórico – Práctico; Utilización de pedagogías Innovadoras; Comprensión y valoración de lo social y ambiental; Diseño para el desarrollo de Competencias, la entidad incorpora, desde la Educación Formal, el concepto de Currículo, dividido en Diseño y Desarrollo Curricular. El referente para el Diseño Curricular son las competencias laborales. La metodología para su elaboración ya no es ni el análisis ocupacional ni el estudio integral del trabajo, es el análisis funcional de acuerdo a los estudios de caracterización de sectores o subsectores en cuanto a los entornos económico, ambiental, educativo, tecnológico, organizacional y de prospectiva.  En el 2003 el SENA incluyó la modalidad virtual como una alternativa de formación para empresarios y demanda social de los colombianos y extranjeros ya que tiene cobertura Internacional, el SENA dispone en su catálogo de cursos complementarios entre 40 y 80 horas de formación, para los cuales se genera un diseño tecno pedagógico que facilita el proceso de enseñanza-aprendizaje en ambientes virtuales. Aunque desde su inicio ha estado presente la modalidad a distancia, solo hasta el año 2015 se dio apertura a programas de formación titulada, la entidad optimizó la experiencia virtual con la presencia en programas de nivel tecnológico.\n",
        "La modalidad de formación virtual o E-Learning es un reto tanto para el gobierno Colombiano como para las entidades de educación que la ofertan, puesto que implica la adopción de nuevos roles para el docente y para el discente. El surgimiento del BLearning o aprendizaje mixto permite la combinación de diferentes tecnologías para el logro del aprendizaje, la combinación de enfoques pedagógicos y técnicas didácticas activas. \n",
        "De acuerdo con el estudio, el aprendizaje mixto favorece las condiciones para la adaptación al uso de herramientas tecnológicas y combinarlo con la presencialidad, el ajuste cultural a este proceso se puede dar de manera más flexible, para el caso del SENA, no es desconocido este proceso ya que en sus inicios se trabajó con la metodología a distancia y se utilizaron cartillas didácticas para favorecer la enseñanza y el aprendizaje.\n",
        "De igual manera, Picciano y Dziuban (2007) enunciaron en el artículo denominado “Un modelo de aprendizaje basado en el tiempo Blended”, la importancia de la modalidad de aprendizaje mixto como una oportunidad de aprendizaje donde el tiempo es un factor importante para el participante y para el desarrollo del aprendizaje. Este aspecto es relevante en el proyecto propuesto ya que hoy en día las empresas trabajan con un plan de producción constante que requiere del talento humano con dedicación completa. Las posibilidades de capacitación presencial se limitan y ello brinda la opción de capacitación a través de la combinación con la modalidad virtual, la cual flexibiliza el proceso de enseñanza-aprendizaje.\n",
        "Por su parte, Guzer y Canera (2014) en su artículo “El pasado, presente y futuro del aprendizaje mixto: un análisis en profundidad de la literatura” resaltaron la importancia del aprendizaje mixto en diferentes etapas, a saber, el pasado, el presente y el futuro. Resultó relevante tomar en cuenta este análisis para la investigación puesto que a partir de ahí se define la modalidad BLearning como una oportunidad para el desarrollo de aprendizaje y la obtención o fortalecimiento del conocimiento. De igual manera, se resalta con ello la importancia del uso de la tecnología para potenciar los alcances de cobertura educativa, que para la investigación   estuvo centrado en la formación de los trabajadores de una empresa colombiana y proyectado para generar una modalidad adicional para la formación a las empresas que ofrece el SENA.\n",
        "Como resultado del recorrido realizado sobre el contexto de la formación para el trabajo, la importancia del aprendizaje virtual y el manejo del aprendizaje mixto como una alternativa en la formación complementaria que se le ofrece a los empresarios, es pertinente enunciar que el uso de la tecnología es una oportunidad para la educación, pues la combinación de modalidades facilita la emisión de formación que se transforma en conocimiento, en este caso, para ser utilizada por colaboradores de las empresas que atiende el SENA.\n",
        "Descripción de la experiencia\n",
        "El proceso investigativo se soportó en la investigación con enfoque cuantitativo centrado en el sujeto, esto es, la modalidad BLearning, que constituye una alternativa para la formación complementaria de los trabajadores de las empresas en Colombia. Las fuentes utilizadas para el proceso de investigación fueron de tipo secundario principalmente, ya que se soportó en información elaborada, que se tomó de documentos institucionales, internet y libros, como complemento al proceso se utilizaron fuentes primarias para la elaboración de encuestas con el propósito de validar los resultados de la puesta en marcha de la prueba piloto.\n",
        "En cuanto a las técnicas de recolección y análisis de información, se partió de la recolección de información a través de los requerimientos de la empresa, tales como selección de los trabajadores que realizarían la formación, el tipo de programa de formación y los lugares de desarrollo del proceso; para el análisis de la información se realizaron encuestas de satisfacción del proceso. Para el desarrollo de la investigación se contó con la participación de un grupo de trabajadores de una empresa del sector industrial, que están dispersos por el país en diferentes sedes ubicadas en distintas ciudades de Colombia. La investigación se centró en identificar la viabilidad de la modalidad BLearning como estrategia empresarial de capacitación en formación complementaria.\n",
        "De acuerdo con el contexto de la investigación se trabajó con una empresa del sector industrial que cuenta con  sede principal en Girón- Santander y sucursales en Bogotá, Medellín y Cali, su misión está centrada en entregar soluciones en vidrio para la vida diaria con eficiencia y cumplimiento. La prioridad de la empresa es la seguridad y total satisfacción de los clientes, basados en el uso de avanzada tecnología, agilidad y calidad. Una vez expuesta la propuesta, la empresa aceptó realizar el proceso con sus trabajadores y dispuso de los recursos requeridos para el desarrollo de la misma. Dentro de la proyección que tiene la empresa se encuentra ser líder en Colombia en productos y servicios de vidrio para la vida diaria, con presencia en el mercado internacional y con alto reconocimiento en la innovación, la excelencia operativa y el servicio al cliente, enfocada en el desarrollo integral de su talento humano.\n",
        "En primera instancia se concertó con el empresario la verificación de necesidades de formación de la empresa; como resultado se determinó enfatizar el cubrimiento en el área operativa y administrativa. El área operativa se centraría en el manejo de seguridad y salud en el trabajo y la administrativa en el servicio al cliente. Para el caso de la parte operativa se seleccionaron los siguientes temas: Fundamentos del sistema de gestión de seguridad y salud en el trabajo y Seguridad industrial.\n",
        "Para la parte administrativa se seleccionó el programa de Servicio al Cliente. La actividad que se va a presentar a continuación fue el análisis del programa de formación. Se debe aclarar que los diseños curriculares de estos programas existen en el aplicativo del Servicio Nacional de Aprendizaje SENA y se ajustan con los procedimientos de diseño curricular que tiene dicha entidad. El diseño curricular del SENA se soporta en el enfoque por competencias, para su construcción parte de las normas de competencia laboral que son emitidas por las mesas sectoriales; este último es el referente principal –ya que brinda los elementos necesarios-para realizar un diseño curricular en el SENA. Las mesas sectoriales son instancias de concertación que contribuyen con el mejoramiento de la formación y la gestión del talento humano del país.\n",
        "Por tanto, la investigación contempló la verificación de los programas de formación requeridos por la empresa y que podían ser utilizados en el proceso de implementación de la modalidad BLearning, para el desarrollo de esta se realizaron las siguientes actividades: Identificación de las necesidades de la empresa, selección de programas de mayor demanda por el empresario, disposición de la red de conocimiento para realizar el rediseño de uno de los programas seleccionados por el empresario y programación de jornada de diseño curricular.\n",
        "El nuevo diseño se estructuró tras considerar como variables la determinación de créditos, la estandarización de tiempo presencial y con apoyo tecnológico que fortalecerían la estrategia BLearning. No obstante, es oportuno resaltar que la estructura no varía de acuerdo con la modalidad de formación, ya que se rige por procedimientos institucionales que no pueden ser modificados sin justa causa y previa validación ante los entes competentes del SENA. Después de realizar la revisión del programa antiguo, se evidenció que estaba desactualizado en lo que respecta a las normas de competencia que ya no tenían vigencia, de igual manera, los resultados de aprendizaje se reevaluaron de acuerdo con la experticia del equipo técnico y posterior validación del sector empresarial.\n",
        "Continuando con el proceso de investigación se realizó la ejecución de una prueba piloto de formación complementaria con la modalidad BLearning en una empresa del sector Industrial. Durante esta fase se destacaron las siguientes actividades: Planeación del proceso formativo, Selección de las sedes de la empresa para la prueba, que fueron respectivamente: Girón (Santander); Bogotá (Cundinamarca); Cali (Valle); Medellín (Antioquia), selección de dos grupos objeto de la formación BLearning; operarios (trabajadores de la planta) y administrativos, adquisición e instalación de la plataforma Goto – Webinar, adecuación de espacio para formación en plataforma Blackboard y Ejecución de la prueba piloto.\n",
        "La propuesta de manejo de BLearning va más allá del uso de la tecnología para la enseñanza, se trata de combinar estrategias didácticas de las dos modalidades para establecer un proceso de aprendizaje y esta acción se realizó a través de la investigación. Teniendo como referencia lo anterior, es claro que se debían generar una serie de actividades de enseñanza y aprendizaje que fortalecieran el proceso y ello redundara en su efectividad; dichas actividades fueron: \n",
        "1.\tEvaluación diagnostica. En el desarrollo del proceso inicial de la formación se realizó una evaluación diagnóstica sobre servicio al cliente, esta forma parte de la estrategia de formación bajo el enfoque de competencias, ya que le permite al instructor identificar los saberes previos de los aprendices para construir su ruta de aprendizaje.\t\n",
        "2.\tSelección apoyo tecnológico. Para la aplicación de la modalidad BLearning es necesaria la selección de los apoyos tecnológicos, una vez identificados se realizó la programación de las actividades de enseñanza y aprendizaje. Específicamente para la prueba se utilizaron dos: Goto Webinar y blackboard. Una vez seleccionadas se procedió con el alistamiento y la logística necesaria para la efectividad del proceso. La combinación de plataformas y de presencialidad brindó efectividad en la prueba realizada, ya que no solo permitió el enlace en formación de los aprendices sino el desarrollo pedagógico del instructor. Para el segmento de formación presencial el instructor realizó visitas de acompañamiento en cada una de las sedes de la empresa, durante la presencialidad se dedicó a realizar prácticas y ejercicios que ayudaron con la adquisición de la competencia. \n",
        "3. Planeación pedagógica. Constituye un elemento clave dentro del procedimiento de desarrollo curricular, ya que corresponde al diseño de actividades de aprendizaje que se desarrollaran a través del curso complementario. Para el SENA las variables pedagógicas esenciales en la planeación pedagógica son: resultados de aprendizaje, conocimientos de saber, conocimientos de proceso y criterios de evaluación. Como parte del proceso se realizó la planeación pedagógica del curso, donde se evidenció la modalidad BLearning. \n",
        "Para concluir, se realizó la evaluación de la aplicación de la prueba piloto de BLearning como estrategia de formación empresarial del SENA. Dentro de esta fase se realizaron las siguientes actividades: Encuesta de satisfacción, que se dividió en dos categorías, a saber, académica y administrativa; análisis de resultados de la encuesta y análisis de los resultados de la investigación.\n",
        "Resultados Alcanzados\n",
        "Los productos alcanzados en el desarrollo de la investigación fueron los que abajo se han de nombrar:\n",
        "Diseño del programa de formación denominado “Servicio al Cliente” con distribución en horas presenciales y tiempo con apoyo de medios tecnológicos, que permitió el desarrollo de la formación bajo la modalidad de BLearning. Se realizó la jornada de diseño en la que se actualizó el programa de formación del servicio al cliente, se incluyeron créditos para el desarrollo del programa. Es de aclarar que después de realizar el rediseño y generar la prueba piloto se pudo comprobar que el diseño del programa es independiente a la modalidad que se seleccione, es decir, el éxito en el desarrollo del proceso formativo se encuentra en el desarrollo curricular del mismo. Al generar la planeación pedagógica se enfatiza en la modalidad BLearning a través de las actividades que se diseñen para el proceso de enseñanza y aprendizaje.\n",
        "Prueba piloto con el programa de Servicio al cliente: se presentan los resultados en el capítulo seis de la presente investigación.\n",
        "Propuesta de ejecución de la modalidad BLearning: una vez revisados los resultados obtenidos en la prueba piloto se derivan las siguientes fases para el desarrollo de la modalidad BLearning.\n",
        "La propuesta incluye el desarrollo de fases que se describen a continuación:\n",
        "Fase 1. Construcción del proceso. El propósito de esta fase es la estructuración y construcción del proceso a seguir en la formación con la modalidad BLearning; este incluye la conformación de equipos de trabajo interdisciplinario para la conformación del documento institucional que soporta conceptual y teóricamente la modalidad BLearning en el SENA. \n",
        "Fase 2. Estructuración administrativa y normativa de la modalidad BLearning. Esta fase incluye la conformación del documento que contiene la normativa que regirá la modalidad BLearning en el SENA, así como los procesos administrativos que se derivan para la ejecución de la misma. En esta fase intervienen funcionarios de la Dirección General del SENA, ya que son los responsables de los procesos nacionales. En la conformación de este equipo participará la dirección jurídica y la dirección de formación para la definición de lineamientos.\n",
        "Fase 3. Definición diseños curriculares por red de conocimiento. Las redes de conocimiento de SENA (SENA, 2012), se realizan dentro de la ejecución del plan de acción de cada vigencia;   para el éxito de la propuesta se deben incluir los diseños de formación complementaria que serán objeto de la modalidad BLearning. Asimismo, se establecerá una alianza con el grupo de formación virtual del SENA con el propósito de unificar criterios para el desarrollo del proceso formativo. Como se indicó en el desarrollo de la experiencia, la modalidad BLearning está apoyada por diferentes medios que para que sean efectivos deben estar planeados y estructurados. Por tal motivo, es importante llegar a acuerdos entre las dependencias que manejan cada uno de los procesos en la entidad.\n",
        "Fase 4. Elaboración del desarrollo curricular. Una vez se tenga definido el catálogo de programas de formación complementaria con modalidad BLearning, se proyectan las mesas de trabajo nacionales con técnicos expertos, para realizar el desarrollo curricular de cada uno de los programas. Este desarrollo incluye elaboración de guías de aprendizaje, instrumentos de evaluación y planeación pedagógica del curso.\n",
        "Fase 5. Publicación de la oferta con modalidad BLearning. Una vez se tenga el diseño y el desarrollo curricular de los programas se procede a la publicación de la oferta con modalidad BLearning; esta se establece a través de los medios de información y comunicación institucionales.\n",
        "Fase 6. Sensibilización y socialización a empresarios. Como parte del relacionamiento corporativo de la entidad se proyectan reuniones para socializar y sensibilizar la oferta de formación complementaria con modalidad BLearning. \n",
        "Fase 7. Acuerdos Institucionales. Producto de las reuniones realizadas con empresarios, se establecerán acuerdos para la ejecución de la formación, es factible que empresas del mismo sector se unan para adquirir recursos tecnológicos que ayuden de manera más efectiva en los procesos formativos.\n",
        "Fase 8: Desarrollo de la formación con modalidad BLearning. Esta fase incluye la selección de los instructores, quienes recibirán previamente formación en la modalidad BLearning y en lineamientos institucionales para el proceso formativo. Se le realizará entrega del desarrollo curricular del programa para que sea ejecutado de forma efectiva.\n",
        "Fase 9. Evaluación y retroalimentación del proceso formativo y administrativo. Se establece que durante un año se realizará evaluación trimestral sobre los avances y dificultades del proceso de formación con modalidad BLearning con miras al desarrollo de planes de mejora.\n",
        "Conclusiones y recomendaciones\n",
        "Después de realizadas las actividades estipuladas en el desarrollo de este proyecto de investigación, como conclusiones relevantes del proceso de investigación se destacan las que a continuación se van a dejar por sentado\n",
        "Una vez se realizó el proceso de diseño curricular del programa de formación objeto del proceso formativo de la empresa y a través de la investigación realizada se concluyó que no es necesario el cambio en el diseño curricular de los programas para ser ofertados bajo la modalidad BLearning, la complejidad de la formación se evidencia en el desarrollo curricular puesto que se deben articular estrategias de formación virtual y presencial con el objetivo de lograr procesos de aprendizaje. Si bien es cierto que es importante la identificación horaria de cada programa en créditos, la cual facilita la distribución de tiempos para la formación, es relevante destacar que el diseño de las estrategias de enseñanza-aprendizaje reviste mayor concentración de tiempo para su diseño, con el objeto de ser efectivas en el proceso de formación. Es así que el desarrollo curricular en el que se incluye la planeación pedagógica debe corresponder con la modalidad BLearning, que incluye las sesiones presenciales y el apoyo a la formación a través del uso de medios tecnológicos.\n",
        "Para el desarrollo de la estrategia BLearning es necesario realizar cambios en la estrategia de capacitación que tiene la empresa, ya que se debe realizar concertación de tiempos, tanto del trabajador como de la empresa. Para el caso de la prueba, la empresa les otorgó tiempo de su horario laboral para estudiar y ellos aportaron un porcentaje igual para el desarrollo de la formación.\n",
        "El uso de la plataforma para algunos aprendices , sobre todo del nivel operario donde la formación de base es básica primario o media, resultó complejo, por lo tanto, requieren de mayor acompañamiento para que puedan adaptarse a la metodología y la trabajen de manera efectiva.\n",
        "Para que la modalidad BLearning se brinde en el SENA es necesario que se dé un cambio en los lineamientos de la modalidad virtual; una de las modificaciones se debe dar en el sistema de información de la entidad, ya que debe incluirle la opción para que los centros no tengan problema al momento de dar apertura al curso.\n",
        "En ese sentido, se requiere realizar capacitación a los instructores sobre la modalidad BLearning; se concluye que el docente debe ser técnico, tener una buena actitud frente a los inconvenientes que se presentan en el desarrollo del proceso formativo. En la prueba se evidenció mayor aceptación del instructor del área técnica dirigida a los operarios, se logró una mayor empatía y aceptación y esto les facilitó el proceso de enseñanza. De acuerdo con los resultados obtenidos en la información suministrada por los aprendices, se cumplió con el propósito de la formación y se aplicó en el desempeño laboral, lo cual resulta una fortaleza de la propuesta ya que evidencia la funcionalidad de su aplicación.\n",
        "Derivado de la investigación surgen entre otras alternativas para dar continuidad con el proceso de implementación de la modalidad BLearning en el SENA, la siguiente investigación: Percepción de los aprendices de formación complementaria sobre el aprendizaje en áreas técnicas en modalidad virtual y BLearning.\n",
        "\"\"\"\n",
        "\n",
        "\n",
        " \n"
      ],
      "execution_count": 0,
      "outputs": []
    },
    {
      "cell_type": "markdown",
      "metadata": {
        "id": "6RyxC9aP_Etu",
        "colab_type": "text"
      },
      "source": [
        "Proceso de tokenizacion y conversion de todas las palabras a minusculas"
      ]
    },
    {
      "cell_type": "code",
      "metadata": {
        "id": "0hQZQp4D_G-x",
        "colab_type": "code",
        "colab": {
          "base_uri": "https://localhost:8080/",
          "height": 34
        },
        "outputId": "f0851f2e-e7b5-4aeb-a482-3a9499dd41dc"
      },
      "source": [
        "tokenizer = RegexpTokenizer(r'\\w+')\n",
        "tokenization_text = tokenizer.tokenize(text)\n",
        "tokenization_text = [w.lower() for w in tokenization_text]\n",
        "\n",
        "print('tokenization_text len: {} words'.format(len(tokenization_text)))"
      ],
      "execution_count": 112,
      "outputs": [
        {
          "output_type": "stream",
          "text": [
            "tokenization_text len: 5142 words\n"
          ],
          "name": "stdout"
        }
      ]
    },
    {
      "cell_type": "markdown",
      "metadata": {
        "id": "7sSOxMonAn3k",
        "colab_type": "text"
      },
      "source": [
        "# Hallar la riqueza lexica del texto anterior dada la formula : total palabras unicas / total de palabras"
      ]
    },
    {
      "cell_type": "code",
      "metadata": {
        "id": "h8q3fpJMAuI5",
        "colab_type": "code",
        "colab": {
          "base_uri": "https://localhost:8080/",
          "height": 51
        },
        "outputId": "dedcf2d0-83a3-45ba-fcd0-d86085768cf5"
      },
      "source": [
        "vocabulary = sorted(set(tokenization_text))\n",
        "lexical_richness = len(vocabulary)/len(tokenization_text)\n",
        "\n",
        "print('unique words len: {}'.format(len(vocabulary)))\n",
        "print('lexical_richness: {}'.format(round(lexical_richness, 4)))"
      ],
      "execution_count": 113,
      "outputs": [
        {
          "output_type": "stream",
          "text": [
            "unique words len: 1174\n",
            "lexical_richness: 0.2283\n"
          ],
          "name": "stdout"
        }
      ]
    },
    {
      "cell_type": "markdown",
      "metadata": {
        "id": "FHZj7N2dIeZ-",
        "colab_type": "text"
      },
      "source": [
        "#Hallar la frecuencia absoluta (numero de veces que aparece una palabra en el texto)"
      ]
    },
    {
      "cell_type": "code",
      "metadata": {
        "id": "1dE7VLwMINm2",
        "colab_type": "code",
        "colab": {
          "base_uri": "https://localhost:8080/",
          "height": 442
        },
        "outputId": "3b2515a3-7e89-4936-bb37-bc7b4111c4fb"
      },
      "source": [
        "frequency=FreqDist(tokenization_text)\n",
        "for mc in frequency.most_common(25): \n",
        "    print(mc)"
      ],
      "execution_count": 114,
      "outputs": [
        {
          "output_type": "stream",
          "text": [
            "('de', 440)\n",
            "('la', 334)\n",
            "('el', 207)\n",
            "('en', 164)\n",
            "('y', 139)\n",
            "('se', 136)\n",
            "('que', 129)\n",
            "('para', 124)\n",
            "('del', 98)\n",
            "('formación', 89)\n",
            "('los', 85)\n",
            "('con', 72)\n",
            "('a', 71)\n",
            "('las', 49)\n",
            "('modalidad', 48)\n",
            "('blearning', 47)\n",
            "('desarrollo', 46)\n",
            "('proceso', 39)\n",
            "('una', 39)\n",
            "('como', 36)\n",
            "('aprendizaje', 36)\n",
            "('es', 35)\n",
            "('sena', 32)\n",
            "('por', 32)\n",
            "('al', 29)\n"
          ],
          "name": "stdout"
        }
      ]
    },
    {
      "cell_type": "markdown",
      "metadata": {
        "id": "KuFs6Wt9Ns1n",
        "colab_type": "text"
      },
      "source": [
        "#Encontrar la frecuencia absoluta pero solo de las palabras relevantes"
      ]
    },
    {
      "cell_type": "code",
      "metadata": {
        "id": "I2tjsw7mLq5x",
        "colab_type": "code",
        "colab": {
          "base_uri": "https://localhost:8080/",
          "height": 85
        },
        "outputId": "5b88fa53-16ed-4c7b-e52c-55d9ab3e4540"
      },
      "source": [
        "nltk.download('stopwords')\n",
        "stop_words = set(stopwords.words('spanish'))\n",
        "relevant_words = [w for w in tokenization_text if not w in stop_words]\n",
        "relevant_words_unique = sorted(set(relevant_words))\n",
        "print('relevant words len: {}'.format(len(relevant_words)))\n",
        "print('unique relevant words len: {}'.format(len(relevant_words_unique)))"
      ],
      "execution_count": 115,
      "outputs": [
        {
          "output_type": "stream",
          "text": [
            "[nltk_data] Downloading package stopwords to /root/nltk_data...\n",
            "[nltk_data]   Package stopwords is already up-to-date!\n",
            "relevant words len: 2627\n",
            "unique relevant words len: 1093\n"
          ],
          "name": "stdout"
        }
      ]
    },
    {
      "cell_type": "code",
      "metadata": {
        "id": "y19oef4LORdw",
        "colab_type": "code",
        "colab": {
          "base_uri": "https://localhost:8080/",
          "height": 442
        },
        "outputId": "d91c271a-9c72-4b0e-8401-a357ccf936b4"
      },
      "source": [
        "fdist=FreqDist(relevant_words)\n",
        "fdist.most_common(25)"
      ],
      "execution_count": 116,
      "outputs": [
        {
          "output_type": "execute_result",
          "data": {
            "text/plain": [
              "[('formación', 89),\n",
              " ('modalidad', 48),\n",
              " ('blearning', 47),\n",
              " ('desarrollo', 46),\n",
              " ('proceso', 39),\n",
              " ('aprendizaje', 36),\n",
              " ('sena', 32),\n",
              " ('investigación', 27),\n",
              " ('trabajo', 23),\n",
              " ('empresa', 22),\n",
              " ('diseño', 20),\n",
              " ('curricular', 17),\n",
              " ('fase', 15),\n",
              " ('procesos', 14),\n",
              " ('complementaria', 14),\n",
              " ('estrategia', 14),\n",
              " ('través', 13),\n",
              " ('trabajadores', 13),\n",
              " ('programa', 13),\n",
              " ('servicio', 12),\n",
              " ('competencias', 12),\n",
              " ('entidad', 12),\n",
              " ('educación', 12),\n",
              " ('enseñanza', 12),\n",
              " ('realizar', 12)]"
            ]
          },
          "metadata": {
            "tags": []
          },
          "execution_count": 116
        }
      ]
    },
    {
      "cell_type": "markdown",
      "metadata": {
        "id": "eD_wHgz4Q4Ms",
        "colab_type": "text"
      },
      "source": [
        "#Encontrar los 10 bi-gramas mas frecuentes en todo el texto"
      ]
    },
    {
      "cell_type": "code",
      "metadata": {
        "id": "EJQ232Q3Q7dA",
        "colab_type": "code",
        "colab": {
          "base_uri": "https://localhost:8080/",
          "height": 187
        },
        "outputId": "ca02b7d3-b10d-4630-a4f4-82c35cf999d9"
      },
      "source": [
        "bigrams=list(ngrams(tokenization_text, 2))\n",
        "fdist_b = FreqDist(bigrams)\n",
        "fdist_b.most_common(10)"
      ],
      "execution_count": 117,
      "outputs": [
        {
          "output_type": "execute_result",
          "data": {
            "text/plain": [
              "[(('de', 'la'), 97),\n",
              " (('en', 'el'), 46),\n",
              " (('para', 'el'), 46),\n",
              " (('la', 'formación'), 40),\n",
              " (('la', 'modalidad'), 39),\n",
              " (('de', 'los'), 36),\n",
              " (('de', 'formación'), 35),\n",
              " (('modalidad', 'blearning'), 33),\n",
              " (('el', 'desarrollo'), 32),\n",
              " (('en', 'la'), 31)]"
            ]
          },
          "metadata": {
            "tags": []
          },
          "execution_count": 117
        }
      ]
    },
    {
      "cell_type": "markdown",
      "metadata": {
        "id": "H8IVH3P3aTfs",
        "colab_type": "text"
      },
      "source": [
        "#Encontrar los 20 bi-gramas mas frecuentes entre las palabras relevantes y graficarlos"
      ]
    },
    {
      "cell_type": "code",
      "metadata": {
        "id": "YySFwjXhRkhW",
        "colab_type": "code",
        "colab": {
          "base_uri": "https://localhost:8080/",
          "height": 428
        },
        "outputId": "74b59a9f-c623-4464-a859-2bb7f41654ef"
      },
      "source": [
        "md_bigrams=list(ngrams(relevant_words, 2))\n",
        "fdist = FreqDist(md_bigrams)\n",
        "fdist.most_common(10)\n",
        "fdist.plot(20)"
      ],
      "execution_count": 79,
      "outputs": [
        {
          "output_type": "display_data",
          "data": {
            "image/png": "[encoded data removed]",
            "text/plain": [
              "<Figure size 432x288 with 1 Axes>"
            ]
          },
          "metadata": {
            "tags": [],
            "needs_background": "light"
          }
        }
      ]
    },
    {
      "cell_type": "markdown",
      "metadata": {
        "id": "UblUu12cZMmw",
        "colab_type": "text"
      },
      "source": [
        "#Hallar las Colocaciones (secuencia de palabras que ocurre en un texto con frecuencia inusualmente alta)"
      ]
    },
    {
      "cell_type": "code",
      "metadata": {
        "id": "H2ylkiRoW95b",
        "colab_type": "code",
        "colab": {
          "base_uri": "https://localhost:8080/",
          "height": 119
        },
        "outputId": "c8934fbd-7297-4d9e-8682-b6e5bf44ccee"
      },
      "source": [
        "from nltk.collocations import *\n",
        "text_collocations = nltk.Text(tokenization_text)\n",
        "text_collocations.collocations()"
      ],
      "execution_count": 122,
      "outputs": [
        {
          "output_type": "stream",
          "text": [
            "modalidad blearning; formación complementaria; talento humano; prueba\n",
            "piloto; del proceso; proceso formativo; planeación pedagógica;\n",
            "desarrollo curricular; américa latina; una vez; aprendizaje mixto;\n",
            "profesional integral; sector industrial; acuerdo con; diseño\n",
            "curricular; los procesos; servicio nacional; esta fase; formación\n",
            "profesional; cada uno\n"
          ],
          "name": "stdout"
        }
      ]
    }
  ]
}